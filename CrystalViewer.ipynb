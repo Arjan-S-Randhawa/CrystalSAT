{
 "cells": [
  {
   "cell_type": "code",
   "id": "initial_id",
   "metadata": {
    "collapsed": true,
    "ExecuteTime": {
     "end_time": "2025-07-04T12:33:38.787339Z",
     "start_time": "2025-07-04T12:33:36.541592Z"
    }
   },
   "source": [
    "# Allows us to merge multiple views into one\n",
    "from IPython.display import display\n",
    "\n",
    "# A special way to create an interactive viewer for molecules\n",
    "# works directly with ASE\n",
    "import nglview as nv\n",
    "\n",
    "# allows us to access materials project database\n",
    "from pymatgen.ext.matproj import MPRester\n",
    "\n",
    "from pymatgen.symmetry.analyzer import SpacegroupAnalyzer #?\n",
    "\n",
    "# allows us to switch between pymatgen and ASE\n",
    "# ASE needed for visualisation ( nglview)\n",
    "from pymatgen.io.ase import AseAtomsAdaptor\n",
    "\n",
    "\n",
    "api_key = \"Th7HiVHO2M4wS0MsI0lFXynnFKwKtnHL\"\n",
    "\n",
    "# 1) Load the primitive (rhombohedral) cell\n",
    "with MPRester(api_key) as m:\n",
    "\n",
    "    prim = m.get_structure_by_material_id(\"mp-22526\")\n",
    "\n",
    "# 2) Get the conventional cubic cell (8 atoms)\n",
    "conv = SpacegroupAnalyzer(prim).get_conventional_standard_structure()\n",
    "\n",
    "# 3) Make  supercells\n",
    "# use make copy to keep unit and super cells\n",
    "prim_sc = prim.copy(); prim_sc.make_supercell([2,2,2])\n",
    "conv_sc = conv.copy(); conv_sc.make_supercell([3,3,3])\n",
    "\n",
    "# 4) Convert all to ASE format\n",
    "ase_prim    = AseAtomsAdaptor.get_atoms(prim)\n",
    "ase_conv    = AseAtomsAdaptor.get_atoms(conv)\n",
    "ase_prim_sc = AseAtomsAdaptor.get_atoms(prim_sc)\n",
    "ase_conv_sc = AseAtomsAdaptor.get_atoms(conv_sc)\n",
    "\n",
    "# Helper to build a viewer\n",
    "# takes in ASE atom form\n",
    "def make_view(atoms, style, radius_scale=0.3, bond_radius=0.1, line_width=2):\n",
    "    view = nv.show_ase(atoms)\n",
    "    view.clear_representations()\n",
    "    if style == \"ball+stick\":\n",
    "        view.add_ball_and_stick(\n",
    "            selection='all',\n",
    "            color_scheme = 'element',\n",
    "            radiusType='vdw',\n",
    "            radiusScale=radius_scale,\n",
    "            bondRadius=bond_radius\n",
    "        )\n",
    "    else:\n",
    "        #not ball and stick\n",
    "        view.add_representation(\n",
    "            'line',\n",
    "            selection='all',\n",
    "            color_scheme='element',\n",
    "            lineWidth=line_width\n",
    "        )\n",
    "    view.add_unitcell() #adds boundary for lattice/ unit cell\n",
    "    return view\n",
    "\n",
    "# 5) Create and display the four views:\n",
    "\n",
    "# (a) Conventional cubic unit cell\n",
    "view_a = make_view(ase_conv,\"ball+stick\", radius_scale=0.05, bond_radius=0.05)\n",
    "display(view_a)\n",
    "\n",
    "# (b) Conventional cubic 2×2×2 supercell\n",
    "view_b = make_view(ase_conv_sc, \"line\", line_width=1)\n",
    "display(view_b)\n",
    "\n",
    "# (c) Primitive rhombohedral unit cell\n",
    "view_c = make_view(ase_prim,\"ball+stick\",  radius_scale=0.01, bond_radius=0.05)\n",
    "display(view_c)\n",
    "\n",
    "# (d) Primitive rhombohedral 2×2×2 supercell\n",
    "view_d = make_view(ase_prim_sc, \"line\", line_width=1)\n",
    "display(view_d)\n",
    "\n"
   ],
   "outputs": [
    {
     "data": {
      "text/plain": [],
      "application/vnd.jupyter.widget-view+json": {
       "version_major": 2,
       "version_minor": 0,
       "model_id": "cce454136ef44d88aee46f59326cc161"
      }
     },
     "metadata": {},
     "output_type": "display_data"
    },
    {
     "name": "stderr",
     "output_type": "stream",
     "text": [
      "/Users/arjanrandhawa/miniforge3/envs/deepmind/lib/python3.9/site-packages/nglview/__init__.py:12: UserWarning: pkg_resources is deprecated as an API. See https://setuptools.pypa.io/en/latest/pkg_resources.html. The pkg_resources package is slated for removal as early as 2025-11-30. Refrain from using this package or pin to Setuptools<81.\n",
      "  import pkg_resources\n"
     ]
    },
    {
     "data": {
      "text/plain": [
       "NGLWidget()"
      ],
      "application/vnd.jupyter.widget-view+json": {
       "version_major": 2,
       "version_minor": 0,
       "model_id": "4d01915c28fc471dbe44fcf7d0c93f0a"
      }
     },
     "metadata": {},
     "output_type": "display_data"
    },
    {
     "data": {
      "text/plain": [
       "NGLWidget()"
      ],
      "application/vnd.jupyter.widget-view+json": {
       "version_major": 2,
       "version_minor": 0,
       "model_id": "7a85aa4799de475bba7d120022dcc8ee"
      }
     },
     "metadata": {},
     "output_type": "display_data"
    },
    {
     "data": {
      "text/plain": [
       "NGLWidget()"
      ],
      "application/vnd.jupyter.widget-view+json": {
       "version_major": 2,
       "version_minor": 0,
       "model_id": "ded67ed68e374aa4b0e29a8ff48be098"
      }
     },
     "metadata": {},
     "output_type": "display_data"
    },
    {
     "data": {
      "text/plain": [
       "NGLWidget()"
      ],
      "application/vnd.jupyter.widget-view+json": {
       "version_major": 2,
       "version_minor": 0,
       "model_id": "155bb7b5540b40c58429cde9e4284de1"
      }
     },
     "metadata": {},
     "output_type": "display_data"
    }
   ],
   "execution_count": 1
  },
  {
   "metadata": {},
   "cell_type": "code",
   "outputs": [],
   "execution_count": null,
   "source": "",
   "id": "bc0f5975dde9169a"
  }
 ],
 "metadata": {
  "kernelspec": {
   "display_name": "Python 3",
   "language": "python",
   "name": "python3"
  },
  "language_info": {
   "codemirror_mode": {
    "name": "ipython",
    "version": 2
   },
   "file_extension": ".py",
   "mimetype": "text/x-python",
   "name": "python",
   "nbconvert_exporter": "python",
   "pygments_lexer": "ipython2",
   "version": "2.7.6"
  }
 },
 "nbformat": 4,
 "nbformat_minor": 5
}
