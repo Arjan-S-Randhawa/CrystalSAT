{
 "cells": [
  {
   "metadata": {
    "ExecuteTime": {
     "end_time": "2025-07-09T05:17:41.905503Z",
     "start_time": "2025-07-09T05:17:41.879681Z"
    }
   },
   "cell_type": "code",
   "source": [
    "\n",
    "from IPython.display import display\n",
    "import nglview as nv\n",
    "import numpy as np\n",
    "from pymatgen.core import Structure\n",
    "from pymatgen.io.ase import AseAtomsAdaptor\n",
    "\n",
    "from pymatgen.core import Structure\n",
    "from pymatgen.io.ase import AseAtomsAdaptor\n",
    "\n",
    "# replace 'output.cif' with your CIF path if different\n",
    "prim = Structure.from_file(\"nacl_checkerboard4x4x4.cif\")\n",
    "ase_prim = AseAtomsAdaptor.get_atoms(prim)\n",
    "\n",
    "\n",
    "def make_view(atoms, style, scale_factor=0.3, bond_scale=0.5, spacefill_scale=0.3, line_width=1):\n",
    "\n",
    "    \"\"\"\n",
    "\n",
    "    Method that allows us to view a unit cell:\n",
    "\n",
    "    IMPORTANT:\n",
    "    Make sure to SCALE the CIF , the unit cell params a,b,c\n",
    "    - We usually set a,b,c = n, if n is small, this can make the atoms\n",
    "    look squashed as for low n we have a very small unit cell\n",
    "    - the units is Angstroms, so for small n, you are making the unit cell smaller than atoms themselves\n",
    "    \n",
    "    :param atoms:\n",
    "    :param style:\n",
    "    :param scale_factor:\n",
    "    :param bond_scale:\n",
    "    :param spacefill_scale:\n",
    "    :param line_width:\n",
    "    :return: a view of the unit cell from CIF\n",
    "\n",
    "    \"\"\"\n",
    "\n",
    "    atoms.set_array('visualize_radii', np.array([0.5] * len(atoms), dtype=float))\n",
    "    view = nv.show_ase(atoms)\n",
    "    view.clear_representations()\n",
    "    if style == \"ball+stick\":\n",
    "        view.add_ball_and_stick(\n",
    "            selection='all',\n",
    "            color_scheme='element',\n",
    "            scaleFactor=scale_factor,\n",
    "            bondScale=bond_scale,\n",
    "        )\n",
    "    elif style == \"spacefill\":\n",
    "        view.add_representation(\n",
    "            'spacefill',\n",
    "            selection='all',\n",
    "            color_scheme='element',\n",
    "            radiusScale=spacefill_scale\n",
    "        )\n",
    "    else:\n",
    "        view.add_representation(\n",
    "            'line',\n",
    "            selection='all',\n",
    "            color_scheme='element',\n",
    "            lineWidth=line_width\n",
    "        )\n",
    "    view.add_unitcell()\n",
    "    return view\n",
    "\n",
    "# 2) Visualize our CrystalSAT CIF structure\n",
    "view_prim = make_view(ase_prim, \"ball+stick\", scale_factor = 1, bond_scale = 1)\n",
    "view_prim._remote_call('clear', target='stage')\n",
    "display(view_prim)\n"
   ],
   "id": "ecd98a08685947b",
   "outputs": [
    {
     "data": {
      "text/plain": [
       "NGLWidget()"
      ],
      "application/vnd.jupyter.widget-view+json": {
       "version_major": 2,
       "version_minor": 0,
       "model_id": "38de26522b7147d7baac5762b5ecb8c1"
      }
     },
     "metadata": {},
     "output_type": "display_data"
    }
   ],
   "execution_count": 3
  },
  {
   "metadata": {},
   "cell_type": "code",
   "outputs": [],
   "execution_count": null,
   "source": "",
   "id": "bc0f5975dde9169a"
  }
 ],
 "metadata": {
  "kernelspec": {
   "display_name": "Python 3",
   "language": "python",
   "name": "python3"
  },
  "language_info": {
   "codemirror_mode": {
    "name": "ipython",
    "version": 2
   },
   "file_extension": ".py",
   "mimetype": "text/x-python",
   "name": "python",
   "nbconvert_exporter": "python",
   "pygments_lexer": "ipython2",
   "version": "2.7.6"
  }
 },
 "nbformat": 4,
 "nbformat_minor": 5
}
