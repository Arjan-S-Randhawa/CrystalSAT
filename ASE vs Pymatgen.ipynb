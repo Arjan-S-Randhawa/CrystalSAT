{
 "cells": [
  {
   "metadata": {},
   "cell_type": "markdown",
   "source": " # 💎 **ASE VS PYMATGEN**",
   "id": "a9b451a91f3a96ab"
  },
  {
   "metadata": {},
   "cell_type": "markdown",
   "source": [
    "This notebook compares the two major materials science libraries:\n",
    "- **Pymatgen** (Python Materials Genomics)\n",
    "- **ASE** (Atomic Simulation Environment)\n",
    "\n",
    "We'll review:\n",
    "- Features\n",
    "- Data formats\n",
    "- Interoperability"
   ],
   "id": "ed07855e21ec0620"
  },
  {
   "metadata": {},
   "cell_type": "markdown",
   "source": [
    "**MAIN DIFFERENCES**\n",
    "# 🔬Representing Crystals\n",
    "\n",
    "Both **Pymatgen** and **ASE** are powerful libraries for working with crystal structures, but they store and handle atomic data differently:\n",
    "\n",
    "- 🧱 **Pymatgen** uses the `Structure` object, which combines:\n",
    "  - A **lattice matrix** (3x3, defining unit cell vectors)\n",
    "  - A list of **PeriodicSite** objects (each with atomic species and fractional coordinates)\n",
    "  - Rich crystallographic metadata (e.g. symmetry, oxidation states)\n",
    "The information is stored in the format\n",
    "  - **lattice vectors** describes a,b,c in terms of a cartesian vector, take this example:\n",
    "    - the format is :\n",
    "        - $$\\vec{v} = x\\hat{i} + y\\hat{j} + z\\hat{k}$$\n",
    "            - a = [ 2.180502,  0.000000,  1.258913 ]  →  2.180502 i + 0 j + 1.258913 k\n",
    "            - b = [ 0.726834,  2.055797,  1.258913 ]  →  0.726834 i + 2.055797 j + 1.258913 k\n",
    "            - c = [-0.000000,  0.000000,  2.517827 ]  →  0 i + 0 j + 2.517827 k\n",
    "    - this can be accessed via:\n",
    "      - `structure.lattice.matrix`\n",
    "\n",
    "    - **Atomic Sites/ Periodic Sites** describes where the atoms are placed in the unit cell, in Angstroms cartesian and as fractional to the a,b,c parameters.\n",
    "        - has the form :\n",
    "                - [PeriodicSite: C (2.544, 1.799, 4.406) [0.875, 0.875, 0.875],\n",
    "                - PeriodicSite: C (0.3634, 0.257, 0.6295) [0.125, 0.125, 0.125]]\n",
    "        This describes the **cartesian positions** and **positions along a,b,c** for each unit cell.\n",
    "    - **unit cell parameters** describes the actual lengths of a,b,c and the angles alpha,beta,gamma\n",
    "\n",
    "     - format:\n",
    "          _cell_length_a   2.51782717\n",
    "\n",
    "          _cell_length_b   2.51782691\n",
    "\n",
    "          _cell_length_c   2.51782692\n",
    "\n",
    "          _cell_angle_alpha  59.99999991\n",
    "\n",
    "          _cell_angle_beta   60.00000324\n",
    "\n",
    "          _cell_angle_gamma  59.99999883\n",
    "\n",
    "- 🧪 **ASE**, on the other hand, uses the `Atoms` object:\n",
    "  - Stores **Cartesian coordinates** by default (though it can use unit cells)\n",
    "  - Emphasizes **molecular dynamics and simulations**\n",
    "  - Easier integration with calculators and visualisation\n",
    "\n",
    "Both libraries can convert between each other using `AseAtomsAdaptor`.\n",
    "\n",
    "### 🧠 Reminder:\n",
    "You can switch between them like so:\n",
    "\n",
    "```python\n",
    "from pymatgen.io.ase import AseAtomsAdaptor\n",
    "atoms = AseAtomsAdaptor.get_atoms(pymatgen_structure)\n",
    "structure = AseAtomsAdaptor.get_structure(atoms)"
   ],
   "id": "f69c7baae3e67ccd"
  }
 ],
 "metadata": {
  "kernelspec": {
   "display_name": "Python 3 (ipykernel)",
   "language": "python",
   "name": "python3"
  },
  "language_info": {
   "codemirror_mode": {
    "name": "ipython",
    "version": 3
   },
   "file_extension": ".py",
   "mimetype": "text/x-python",
   "name": "python",
   "nbconvert_exporter": "python",
   "pygments_lexer": "ipython3",
   "version": "3.9.23"
  }
 },
 "nbformat": 4,
 "nbformat_minor": 5
}
